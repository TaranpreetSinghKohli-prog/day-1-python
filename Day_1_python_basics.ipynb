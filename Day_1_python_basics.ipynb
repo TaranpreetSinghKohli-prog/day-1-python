{
  "nbformat": 4,
  "nbformat_minor": 0,
  "metadata": {
    "colab": {
      "provenance": []
    },
    "kernelspec": {
      "name": "python3",
      "display_name": "Python 3"
    },
    "language_info": {
      "name": "python"
    }
  },
  "cells": [
    {
      "cell_type": "code",
      "execution_count": 2,
      "metadata": {
        "colab": {
          "base_uri": "https://localhost:8080/"
        },
        "id": "Fw5IZm1SS_N3",
        "outputId": "b33e170f-8541-475e-bcb7-e4e319a2b05e"
      },
      "outputs": [
        {
          "output_type": "stream",
          "name": "stdout",
          "text": [
            "I am not lazy anymore\n",
            "5\n",
            "what is your name: Taran\n",
            "what is your age: 19\n",
            "you will be 100 in  81  years\n"
          ]
        }
      ],
      "source": [
        "print(\"I am not lazy anymore\")\n",
        "a=5\n",
        "print(a)\n",
        "name = input(\"what is your name: \")\n",
        "age = input(\"what is your age: \")\n",
        "print(\"you will be 100 in \" , 100-int(age) , \" years\")\n"
      ]
    },
    {
      "cell_type": "code",
      "source": [
        "for i in range(1,11):\n",
        "  print(i)"
      ],
      "metadata": {
        "colab": {
          "base_uri": "https://localhost:8080/"
        },
        "id": "ZidwUQHnTNwO",
        "outputId": "3a310054-c8bf-446c-ef5a-38b1bc1c86c5"
      },
      "execution_count": 3,
      "outputs": [
        {
          "output_type": "stream",
          "name": "stdout",
          "text": [
            "1\n",
            "2\n",
            "3\n",
            "4\n",
            "5\n",
            "6\n",
            "7\n",
            "8\n",
            "9\n",
            "10\n"
          ]
        }
      ]
    },
    {
      "cell_type": "code",
      "source": [
        "for i in range(10):\n",
        "  print(\"Taran\")"
      ],
      "metadata": {
        "colab": {
          "base_uri": "https://localhost:8080/"
        },
        "id": "jxXjK_qCTZJX",
        "outputId": "0a1c65c7-570c-4ef1-8f30-23ed492bd472"
      },
      "execution_count": 4,
      "outputs": [
        {
          "output_type": "stream",
          "name": "stdout",
          "text": [
            "Taran\n",
            "Taran\n",
            "Taran\n",
            "Taran\n",
            "Taran\n",
            "Taran\n",
            "Taran\n",
            "Taran\n",
            "Taran\n",
            "Taran\n"
          ]
        }
      ]
    },
    {
      "cell_type": "code",
      "source": [
        "for i in range(2,21,2):\n",
        "  print(i)"
      ],
      "metadata": {
        "colab": {
          "base_uri": "https://localhost:8080/"
        },
        "id": "XLNsf0hkTgHM",
        "outputId": "a1c7c807-4d99-4f96-959b-2cc01058fd58"
      },
      "execution_count": 5,
      "outputs": [
        {
          "output_type": "stream",
          "name": "stdout",
          "text": [
            "2\n",
            "4\n",
            "6\n",
            "8\n",
            "10\n",
            "12\n",
            "14\n",
            "16\n",
            "18\n",
            "20\n"
          ]
        }
      ]
    },
    {
      "cell_type": "code",
      "source": [
        "num = int(input(\"Enter your number: \"))\n",
        "if num >10:\n",
        "  print(\"Big number\")\n",
        "else:\n",
        "  print(\"Small number\")"
      ],
      "metadata": {
        "colab": {
          "base_uri": "https://localhost:8080/"
        },
        "id": "1xQIs5HyTnZq",
        "outputId": "38f1e6cc-113c-4f46-b0dc-a7520f6e2c38"
      },
      "execution_count": 6,
      "outputs": [
        {
          "output_type": "stream",
          "name": "stdout",
          "text": [
            "Enter your number: 25\n",
            "Big number\n"
          ]
        }
      ]
    },
    {
      "cell_type": "code",
      "source": [
        "marks = int(input(\"Enter your marks: \"))\n",
        "if marks >= 40:\n",
        "  print(\"PASS\")\n",
        "else:\n",
        "  print(\"FAIL\")"
      ],
      "metadata": {
        "colab": {
          "base_uri": "https://localhost:8080/"
        },
        "id": "r9kJqpwWTvW5",
        "outputId": "6a4f2359-9941-45e8-9eac-847d5b0e0688"
      },
      "execution_count": 7,
      "outputs": [
        {
          "output_type": "stream",
          "name": "stdout",
          "text": [
            "Enter your marks: 78\n",
            "PASS\n"
          ]
        }
      ]
    },
    {
      "cell_type": "code",
      "source": [
        "sub_1 = int(input(\"Enter your marks for subject 1: \"))\n",
        "sub_2 = int(input(\"Enter you marks for subject 2: \"))\n",
        "sub_3 = int(input(\"Enter your marks for subject 3: \"))\n",
        "average = (sub_1+sub_2+sub_3)/3\n",
        "if average  >= 40:\n",
        "  print(\"Pass\")\n",
        "else:\n",
        "  print(\"Fail\")\n",
        "if sub_1 >=90 and sub_2>=90 and sub_3>=90:\n",
        "  print(\"Topper\")\n",
        ""
      ],
      "metadata": {
        "colab": {
          "base_uri": "https://localhost:8080/"
        },
        "id": "gJtPtCC2T3oB",
        "outputId": "e0cac9df-85ad-4482-bc26-b8c2363fbfcf"
      },
      "execution_count": 8,
      "outputs": [
        {
          "output_type": "stream",
          "name": "stdout",
          "text": [
            "Enter your marks for subject 1: 97\n",
            "Enter you marks for subject 2: 90\n",
            "Enter your marks for subject 3: 94\n",
            "Pass\n",
            "Topper\n"
          ]
        }
      ]
    }
  ]
}